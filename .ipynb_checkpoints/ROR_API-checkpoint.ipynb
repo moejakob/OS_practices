{
 "cells": [
  {
   "cell_type": "markdown",
   "id": "a36a4256-70ec-4498-9ec2-9b201abb309f",
   "metadata": {},
   "source": [
    "I asked chatGPT to access the ROR API to download ror ids for the universities in the THE ranking table."
   ]
  },
  {
   "cell_type": "code",
   "execution_count": 6,
   "id": "22be952c-22fb-4ef1-bd23-d624cf5438c7",
   "metadata": {},
   "outputs": [
    {
     "name": "stderr",
     "output_type": "stream",
     "text": [
      "100%|███████████████████████████████████████| 1526/1526 [15:06<00:00,  1.68it/s]"
     ]
    },
    {
     "name": "stdout",
     "output_type": "stream",
     "text": [
      "                                   title  \\\n",
      "0                   University of Oxford   \n",
      "1                    Stanford University   \n",
      "2                     Harvard University   \n",
      "3     California Institute of Technology   \n",
      "4  Massachusetts Institute of Technology   \n",
      "\n",
      "                             native_name                     ROR ID  \n",
      "0                   University of Oxford  https://ror.org/052gg0110  \n",
      "1                    Stanford University  https://ror.org/00f54p054  \n",
      "2                     Harvard University  https://ror.org/03vek6s52  \n",
      "3     California Institute of Technology  https://ror.org/05dxps055  \n",
      "4  Massachusetts Institute of Technology  https://ror.org/042nb2s44  \n"
     ]
    },
    {
     "name": "stderr",
     "output_type": "stream",
     "text": [
      "\n"
     ]
    }
   ],
   "source": [
    "import pandas as pd\n",
    "import requests\n",
    "from time import sleep\n",
    "from tqdm import tqdm  # Progress bar library\n",
    "\n",
    "# Load THE scores dataset\n",
    "df = pd.read_csv('data/THE_ranking/universities_scores.csv')\n",
    "\n",
    "# Function to get ROR ID using the ROR API\n",
    "def get_ror_id(university_name):\n",
    "    try:\n",
    "        response = requests.get(f\"https://api.ror.org/organizations?query={university_name}\")\n",
    "        data = response.json()\n",
    "        if data['number_of_results'] > 0:\n",
    "            return data['items'][0]['id']\n",
    "        else:\n",
    "            return None\n",
    "    except:\n",
    "        return None\n",
    "\n",
    "# Apply the ROR ID lookup for each university with progress tracking\n",
    "tqdm.pandas()  # Enable tqdm for pandas\n",
    "df['ROR ID'] = df['native_name'].progress_apply(get_ror_id)\n",
    "\n",
    "# Save the updated dataset with ROR IDs\n",
    "df.to_csv('universities_with_ror_ids.csv', index=False)\n",
    "\n",
    "# Display the DataFrame\n",
    "print(df.head())\n"
   ]
  }
 ],
 "metadata": {
  "kernelspec": {
   "display_name": "Python 3 (ipykernel)",
   "language": "python",
   "name": "python3"
  },
  "language_info": {
   "codemirror_mode": {
    "name": "ipython",
    "version": 3
   },
   "file_extension": ".py",
   "mimetype": "text/x-python",
   "name": "python",
   "nbconvert_exporter": "python",
   "pygments_lexer": "ipython3",
   "version": "3.9.13"
  }
 },
 "nbformat": 4,
 "nbformat_minor": 5
}
