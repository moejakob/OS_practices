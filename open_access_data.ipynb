{
 "cells": [
  {
   "cell_type": "code",
   "execution_count": 2,
   "id": "4d6e93ca-db96-424e-85eb-3d3d6c704c6d",
   "metadata": {},
   "outputs": [],
   "source": [
    "import pandas as pd"
   ]
  },
  {
   "cell_type": "code",
   "execution_count": 3,
   "id": "9bd44ec4-35c7-444e-9da6-c3ed72f534a9",
   "metadata": {},
   "outputs": [],
   "source": [
    "cwts = pd.read_excel('./data/CWTS Leiden Ranking 2023.xlsx', sheet_name='Results')"
   ]
  },
  {
   "cell_type": "code",
   "execution_count": null,
   "id": "dedf7416-7bfc-4de6-b51e-5f94dd844127",
   "metadata": {},
   "outputs": [],
   "source": [
    "cwts_open = pd.read_excel('./data/CWTS Leiden Ranking Open Edition 2023 - Results.ods', sheet_name='Results')"
   ]
  },
  {
   "cell_type": "code",
   "execution_count": 1,
   "id": "aabaff01-c4d2-47bd-88c7-63c1588a6b80",
   "metadata": {},
   "outputs": [
    {
     "ename": "NameError",
     "evalue": "name 'cwts' is not defined",
     "output_type": "error",
     "traceback": [
      "\u001b[0;31m---------------------------------------------------------------------------\u001b[0m",
      "\u001b[0;31mNameError\u001b[0m                                 Traceback (most recent call last)",
      "\u001b[0;32m/tmp/ipykernel_20191/2108782696.py\u001b[0m in \u001b[0;36m<module>\u001b[0;34m\u001b[0m\n\u001b[0;32m----> 1\u001b[0;31m \u001b[0mcwts\u001b[0m\u001b[0;34m.\u001b[0m\u001b[0mshape\u001b[0m\u001b[0;34m\u001b[0m\u001b[0;34m\u001b[0m\u001b[0m\n\u001b[0m",
      "\u001b[0;31mNameError\u001b[0m: name 'cwts' is not defined"
     ]
    }
   ],
   "source": [
    "cwts.shape"
   ]
  }
 ],
 "metadata": {
  "kernelspec": {
   "display_name": "Python 3 (ipykernel)",
   "language": "python",
   "name": "python3"
  },
  "language_info": {
   "codemirror_mode": {
    "name": "ipython",
    "version": 3
   },
   "file_extension": ".py",
   "mimetype": "text/x-python",
   "name": "python",
   "nbconvert_exporter": "python",
   "pygments_lexer": "ipython3",
   "version": "3.9.13"
  }
 },
 "nbformat": 4,
 "nbformat_minor": 5
}
