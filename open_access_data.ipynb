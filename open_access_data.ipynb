{
 "cells": [
  {
   "cell_type": "markdown",
   "id": "8ad49bb7-d923-45b7-bb33-e8735fd0b133",
   "metadata": {},
   "source": [
    "# Open Access Practices at Universities\n",
    "## The Data\n",
    "In this project I want to explore the open access publishing practices of universities all over the world. Publishing research open access is the only way to make scientific knowledge equally available to everyone with an internet connection regardless of their origin and their available funds.\n",
    "\n",
    "This project is based on the CWTS Leiden Ranking Open Edition 2023 Dataset<sup>1</sup> provided by the Centre for Science and Technology Studies (CWTS). The full dataset can be downloaded from Zenodo under the followig citation:\n",
    "\n",
    "> Van Eck, N. J. (2024). CWTS Leiden Ranking Open Edition 2023 - Data [Data set]. Zenodo. https://doi.org/10.5281/zenodo.10579113\n",
    "\n",
    "It is based on data provided by OpenAlex - a catalogue of scientific works, authors and institutions.\n",
    "\n",
    "## Open Access Related Terminology\n",
    "The issue of Open Access publishing is quite complex therefore I will explain some central terminology here:\n",
    "\n",
    "**Gold Open Access:** the final version of your scientific output is published open access by the publisher. i.e. it is permanently and freely available for anyone with an internet connection.\n",
    "\n",
    "**Green Open Access:** also called 'self-archiving'. Here the authors themselves publish an earlier version of the manuscript of the scientific output in an online repository, while the publisher does not make the final version available freely.\n",
    "\n",
    "**Bronze Open Access:** here, the scientific output is free to read only on the publishers website, however unlike the articles published as **gold** open access, **bronze** open access articles do not have an explicitly open license.\n",
    "\n",
    "**DOI:** A **D**igital **O**bject **I**dentifier is a persistend identifier (PID). That is a unique ID that can permanently be used to identify papers (and other digital objects). DOIs usually can be used to access a URL.\n",
    "\n",
    "**ROR:** The **R**esearch **O**rganisation **R**egistry is another PID. This one is used to uniquely identify universities and other research organisations."
   ]
  }
 ],
 "metadata": {
  "kernelspec": {
   "display_name": "Python 3 (ipykernel)",
   "language": "python",
   "name": "python3"
  },
  "language_info": {
   "codemirror_mode": {
    "name": "ipython",
    "version": 3
   },
   "file_extension": ".py",
   "mimetype": "text/x-python",
   "name": "python",
   "nbconvert_exporter": "python",
   "pygments_lexer": "ipython3",
   "version": "3.9.13"
  }
 },
 "nbformat": 4,
 "nbformat_minor": 5
}
